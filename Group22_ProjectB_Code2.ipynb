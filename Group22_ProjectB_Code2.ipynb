{
 "cells": [
  {
   "cell_type": "markdown",
   "id": "48a21485",
   "metadata": {},
   "source": [
    "# AIM: Locating impact using Computational Intelligence"
   ]
  },
  {
   "cell_type": "markdown",
   "id": "85a4f75c",
   "metadata": {},
   "source": [
    "#### Group 22 Members:\n",
    "     Joshi, Nakul\n",
    "     Joshi, Nikhil\n",
    "     Kulkarni, Ashutosh\n",
    "     Kunte, Rucha\n",
    "     Nangare, Sangram"
   ]
  },
  {
   "cell_type": "code",
   "execution_count": 1,
   "id": "294c3d56",
   "metadata": {},
   "outputs": [],
   "source": [
    "#IMPORT REQUIRED LIBRARIES\n",
    "\n",
    "import scipy.io\n",
    "import matplotlib.pyplot as plt\n",
    "import tensorflow as tf\n",
    "import numpy as np\n",
    "import pandas as pd\n",
    "\n",
    "import scipy.signal as signal\n",
    "from os import listdir"
   ]
  },
  {
   "cell_type": "code",
   "execution_count": 2,
   "id": "98a72c4f",
   "metadata": {},
   "outputs": [],
   "source": [
    "#IMPORTING LIBRARIES TO BUILD NEURAL NETWORK MODELS\n",
    "\n",
    "import keras,os\n",
    "from keras.models import Sequential\n",
    "from keras.layers import Dense, Conv2D, MaxPool2D , Flatten, Dropout, AvgPool2D, BatchNormalization\n",
    "from tensorflow.keras.optimizers import Adam\n",
    "from sklearn.preprocessing import StandardScaler\n",
    "\n",
    "import scipy.stats as stats"
   ]
  },
  {
   "cell_type": "code",
   "execution_count": 3,
   "id": "0a94c1fe",
   "metadata": {},
   "outputs": [],
   "source": [
    "#PATH LOCATIONS TO IMPORT AND STORE DATA\n",
    "\n",
    "path = r'D:\\\\RWTH Masters\\\\Sem 3\\\\CIE\\\\Project_B\\\\Project_B_Data\\\\EPOT_Data\\\\'\n",
    "path2 = r'D:\\\\RWTH Masters\\\\Sem 3\\\\CIE\\\\Project_B\\\\Project_B_Data\\\\Example\\\\'"
   ]
  },
  {
   "cell_type": "code",
   "execution_count": 4,
   "id": "be8c582c",
   "metadata": {},
   "outputs": [],
   "source": [
    "#PLOTTING FUNCTIONS\n",
    "\n",
    "def plot(data,title):\n",
    "    fig,(ax0,ax1,ax2, ax3) = plt.subplots(nrows = 4, figsize = (30,12), sharex=True)\n",
    "    plot_axis(ax0, data[:,0], data[:,1], 'Channel 1')\n",
    "    plot_axis(ax1, data[:,0], data[:,2], 'Channel 2')\n",
    "    plot_axis(ax2, data[:,0], data[:,3], 'Channel 3')\n",
    "    plot_axis(ax3, data[:,0], data[:,4], 'Channel 4')\n",
    "    plt.subplots_adjust(hspace=0.2)\n",
    "    fig.suptitle(title)\n",
    "    plt.show()\n",
    "    \n",
    "def plot_axis(ax, x, y, title):\n",
    "    ax.plot(x,y,'g')\n",
    "    ax.set_title(title)\n",
    "    ax.set_ylim([min(y)-np.std(y), max(y) + np.std(y)])\n",
    "    ax.set_xlim([min(x),max(x)])\n",
    "    ax.grid(True)"
   ]
  },
  {
   "cell_type": "code",
   "execution_count": 5,
   "id": "d3bc3b79",
   "metadata": {},
   "outputs": [],
   "source": [
    "def call_method(data):\n",
    "    f = np.zeros(data.shape)\n",
    "    return f"
   ]
  },
  {
   "cell_type": "code",
   "execution_count": 6,
   "id": "9aefdc06",
   "metadata": {},
   "outputs": [],
   "source": [
    "#FUNCTION FOR SWAPPING THE CHANNEL DATA\n",
    "\n",
    "def Swap_quad2(data, name,x,y): \n",
    "    fpath = path2+name\n",
    "    f2 = call_method(data)\n",
    "    f2[:,0] = data[:,0]\n",
    "    f2[:,1] = data[:,1]\n",
    "    f2[:,2] = data[:,4]\n",
    "    f2[:,3] = data[:,3]\n",
    "    f2[:,4] = data[:,2]\n",
    "    #plot(f2, name)\n",
    "    df2 = pd.DataFrame({'Time': f2[:,0], 'Channel 1': f2[:,1], 'Channel 2': f2[:,2], 'Channel 3': f2[:,3], 'Channel 4': f2[:,4],'x coordinate':x, 'y coordinate':y})\n",
    "    df2.to_csv(fpath, index = None)\n",
    "\n",
    "def Swap_quad3(data, name,x,y):\n",
    "    fpath = path2+name\n",
    "    f3 = call_method(data)\n",
    "    f3[:,0] = data[:,0]\n",
    "    f3[:,1] = data[:,3]\n",
    "    f3[:,2] = data[:,4]\n",
    "    f3[:,3] = data[:,1]\n",
    "    f3[:,4] = data[:,2]\n",
    "    #plot(f3, name)\n",
    "    df3 = pd.DataFrame({'Time': f3[:,0], 'Channel 1': f3[:,1], 'Channel 2': f3[:,2], 'Channel 3': f3[:,3], 'Channel 4': f3[:,4],'x coordinate':x, 'y coordinate':y})\n",
    "    df3.to_csv(fpath, index = None)\n",
    "\n",
    "def Swap_quad4(data, name,x,y):\n",
    "    fpath = path2+name\n",
    "    f4 = call_method(data)\n",
    "    f4[:,0] = data[:,0]\n",
    "    f4[:,1] = data[:,3]\n",
    "    f4[:,2] = data[:,2]\n",
    "    f4[:,3] = data[:,1]\n",
    "    f4[:,4] = data[:,4] \n",
    "    #plot(f4, name)\n",
    "    df4 = pd.DataFrame({'Time': f4[:,0], 'Channel 1': f4[:,1], 'Channel 2': f4[:,2], 'Channel 3': f4[:,3], 'Channel 4': f4[:,4],'x coordinate':x, 'y coordinate':y})\n",
    "    df4.to_csv(fpath, index = None)"
   ]
  },
  {
   "cell_type": "code",
   "execution_count": 7,
   "id": "39963166",
   "metadata": {},
   "outputs": [],
   "source": [
    "#FUNCTION FOR DATA AUGMENTATION\n",
    "\n",
    "def Augment(x1,y1,data,name):\n",
    "    dff2 = pd.DataFrame() \n",
    "    dff3 = pd.DataFrame()\n",
    "    dff4 = pd.DataFrame()\n",
    "    dx = x1-250\n",
    "    dy = y1-250\n",
    "    #plot(data, name)   \n",
    "    x2 = 250-dx\n",
    "    y2 = y1\n",
    "    x3 = 250-dx\n",
    "    y3 = 250-dy\n",
    "    x4 = x1\n",
    "    y4 = y3\n",
    "    name1 = 'EPOT_'+str(x1)+'_'+str(y1)+'.csv'\n",
    "    name2 = 'EPOT_'+str(x2)+'_'+str(y2)+'.csv'\n",
    "    name3 = 'EPOT_'+str(x3)+'_'+str(y3)+'.csv'\n",
    "    name4 = 'EPOT_'+str(x4)+'_'+str(y4)+'.csv'\n",
    "    dff1 = pd.DataFrame({'Time': data[:,0], 'Channel 1': data[:,1], 'Channel 2': data[:,2], 'Channel 3': data[:,3], 'Channel 4': data[:,4],'x coordinate':x1, 'y coordinate':y1})\n",
    "    dff1.to_csv(path2+name1, index = None)\n",
    "    dff2 = Swap_quad2(data, name2,x2,y2)\n",
    "    dff3 = Swap_quad3(data, name3,x3,y3)\n",
    "    dff4 = Swap_quad4(data, name4,x4,y4)\n",
    "    return dff1,dff2, dff3, dff4"
   ]
  },
  {
   "cell_type": "code",
   "execution_count": 8,
   "id": "0b07076d",
   "metadata": {},
   "outputs": [],
   "source": [
    "#FUNCTION FOR LINEAR SYSTEMATIC SAMPLING\n",
    "\n",
    "import random\n",
    "\n",
    "n = 20000\n",
    "size_systematic_sample = 800\n",
    "interval = (n // size_systematic_sample)\n",
    "\n",
    "random_number = random.randint(0,1)\n",
    "\n",
    "def systematic_sampling(df, step):\n",
    "    \n",
    "    indexes = np.arange(random_number, len(df)-1, step=step)\n",
    "    systematic_sample = df[indexes]\n",
    "    return systematic_sample"
   ]
  },
  {
   "cell_type": "code",
   "execution_count": 9,
   "id": "3069896e",
   "metadata": {},
   "outputs": [],
   "source": [
    "def append_data (dfff):\n",
    "    \n",
    "    ad1 = dfff[0].append(dfff[1], ignore_index = True)\n",
    "    ad2 = ad1.append(dfff[2], ignore_index = True)\n",
    "    ad3 = ad2.append(dfff[3], ignore_index = True)\n",
    "    \n",
    "    return ad3    "
   ]
  },
  {
   "cell_type": "code",
   "execution_count": 10,
   "id": "6b0fcb9f",
   "metadata": {},
   "outputs": [],
   "source": [
    "#CODE TO SAMPLE, AUGMENT AND STORE DATA IN RESPECTIVE .csv FILES\n",
    "\n",
    "import os\n",
    "import os.path\n",
    "final_data = pd.DataFrame()\n",
    "for x in range(250, 330, 5):\n",
    "    for y in range (250, 330, 5):\n",
    "        name = 'EPOT_'+str(x)+'_'+str(y)+'.mat'\n",
    "        path1 = path+name\n",
    "        #print(os.path.exists(path1))\n",
    "        if (os.path.exists(path1) == True):\n",
    "            data = scipy.io.loadmat(path1)\n",
    "            data = data['num_data']\n",
    "            \n",
    "            systematic_sample = systematic_sampling(data,interval)\n",
    "            dfff = Augment(x,y,systematic_sample,name)\n",
    "        else: break"
   ]
  },
  {
   "cell_type": "code",
   "execution_count": 11,
   "id": "cd46fde9",
   "metadata": {},
   "outputs": [],
   "source": [
    "#CODE TO IMPORT DATA FROM THE PREVIOUSLY CREATED .csv FILES, APPEND THE FILES AND STORE IN A SINGLE .csv FILE\n",
    "\n",
    "final_data = pd.DataFrame()\n",
    "for x in range(175, 330, 5):\n",
    "    for y in range (175, 330, 5):\n",
    "        name = 'EPOT_'+str(x)+'_'+str(y)+'.csv'\n",
    "        path1 = path2+name\n",
    "        #print(os.path.exists(path1))\n",
    "        if os.path.exists(path1) == True:\n",
    "            data = pd.read_csv(path1)\n",
    "            final_data = final_data.append(data,ignore_index=True)\n",
    "            final_data.to_csv('Data_800.csv', index = None)"
   ]
  },
  {
   "cell_type": "markdown",
   "id": "9ada5e28",
   "metadata": {},
   "source": [
    "# Pre-processing of Training Data"
   ]
  },
  {
   "cell_type": "code",
   "execution_count": 3,
   "id": "a8c45c3d",
   "metadata": {},
   "outputs": [],
   "source": [
    "#IMPORT COMBINED DATA\n",
    "final_data = pd.read_csv('Data.csv')\n",
    "#print(final_data)\n",
    "train_data = final_data[['Time','Channel 1', 'Channel 2', 'Channel 3', 'Channel 4']]\n",
    "label_data = final_data[['x coordinate', 'y coordinate']]\n",
    "\n",
    "label_data = label_data.astype('float64')"
   ]
  },
  {
   "cell_type": "code",
   "execution_count": 4,
   "id": "8ff0e703",
   "metadata": {},
   "outputs": [],
   "source": [
    "#FUNCTION TO EXTRACT DATA FROM THE CREATED .csv (DataFrame) TO A NUMPY ARRAY \n",
    "\n",
    "freq = 400\n",
    "frame_size = int(freq*1)\n",
    "hop_size = int(freq*1)\n",
    "\n",
    "def get_frames(df, df2, frame_size, hop_size):\n",
    "    \n",
    "    N_FEATURES = 5\n",
    "    \n",
    "    frames = []\n",
    "    labels = []\n",
    "    \n",
    "    for j in range(0, len(df) , hop_size):\n",
    "        time = df['Time'].values[j:j+frame_size]\n",
    "        ch1 = df['Channel 1'].values[j:j+frame_size]\n",
    "        ch2 = df['Channel 2'].values[j:j+frame_size]\n",
    "        ch3 = df['Channel 3'].values[j:j+frame_size]\n",
    "        ch4 = df['Channel 4'].values[j:j+frame_size]\n",
    "        \n",
    "        label = stats.mode(df2[j:j+frame_size])[0][0]\n",
    "        frame = np.column_stack((time,ch1,ch2,ch3,ch4))\n",
    "        frames.append(frame)\n",
    "        labels.append(label)\n",
    "        \n",
    "    frames = np.asarray(frames).reshape(-1, frame_size, N_FEATURES)\n",
    "    labels = np.asarray(labels)\n",
    "    \n",
    "    return frames, labels"
   ]
  },
  {
   "cell_type": "code",
   "execution_count": 5,
   "id": "b3d2946b",
   "metadata": {},
   "outputs": [
    {
     "name": "stdout",
     "output_type": "stream",
     "text": [
      "(709, 400, 5) (709, 2)\n"
     ]
    }
   ],
   "source": [
    "x,y = get_frames(train_data, label_data, frame_size, hop_size)\n",
    "print(x.shape,y.shape)"
   ]
  },
  {
   "cell_type": "markdown",
   "id": "f3a73a7c",
   "metadata": {},
   "source": [
    "## KNN And DTR"
   ]
  },
  {
   "cell_type": "code",
   "execution_count": 6,
   "id": "19ec1e7c",
   "metadata": {},
   "outputs": [],
   "source": [
    "#FLATTENING AND APPENDING DATA TO GET A 2-D ARRAY\n",
    "\n",
    "i = 0\n",
    "data = np.empty(shape=(1,2000))\n",
    "\n",
    "for i in range (0,709,1):\n",
    "    final_data_flat = x[i,:,:].flatten()\n",
    "    data = np.vstack([data, final_data_flat])\n",
    "    #data = np.append(data,final_data_flat)\n",
    "    \n",
    "    \n",
    "data = np.delete(data, 0, 0)\n",
    "data.shape\n",
    "\n",
    "#TRAIN-TEST SPLIT\n",
    "from sklearn.model_selection import train_test_split\n",
    "x_train, x_test, y_train, y_test = train_test_split(data,y,test_size = 0.1, random_state=42)\n",
    "x_train.shape\n",
    "\n",
    "\n",
    "from sklearn.preprocessing import StandardScaler, MinMaxScaler\n",
    "#USING MINMAX SCALER TO NORMALIZE THE DATA\n",
    "scaler1 = MinMaxScaler()\n",
    "x_train = scaler1.fit_transform(x_train)\n",
    "x_test = scaler1.fit_transform(x_test)"
   ]
  },
  {
   "cell_type": "markdown",
   "id": "d65158e5",
   "metadata": {},
   "source": [
    "## KNN"
   ]
  },
  {
   "cell_type": "code",
   "execution_count": 7,
   "id": "241cab0c",
   "metadata": {},
   "outputs": [
    {
     "name": "stdout",
     "output_type": "stream",
     "text": [
      "KNN accuracy:  0.9892431155812842\n",
      "KNN deviation:  x = 1.5316901408450705 y = 2.165492957746479\n",
      "KNN Mean Squared Error: 19.938380281690144\n"
     ]
    }
   ],
   "source": [
    "#IMPLEMENTING KNN\n",
    "\n",
    "from sklearn.neighbors import KNeighborsRegressor\n",
    "knn = KNeighborsRegressor(n_neighbors = 4).fit(x_train, y_train)\n",
    "knn_accuracy = knn.score(x_test, y_test)\n",
    "print('KNN accuracy: ',knn_accuracy)\n",
    "\n",
    "xtest = data[3]\n",
    "xtest = np.reshape(xtest,(1,2000))\n",
    "y_pred = knn.predict(x_test)\n",
    "\n",
    "xDev = np.mean(np.abs(y_test[:,0]-y_pred[:,0]))\n",
    "yDev = np.mean(np.abs(y_test[:,1]-y_pred[:,1]))\n",
    "print('KNN deviation: ','x =',xDev, 'y =',yDev)\n",
    "\n",
    "from sklearn.metrics import mean_squared_error\n",
    "knn_mse =mean_squared_error(y_test, y_pred)\n",
    "print(\"KNN Mean Squared Error:\",knn_mse)"
   ]
  },
  {
   "cell_type": "markdown",
   "id": "ac012e72",
   "metadata": {},
   "source": [
    "## Decision Tree Regressor (DTR)"
   ]
  },
  {
   "cell_type": "code",
   "execution_count": 8,
   "id": "4da34cfa",
   "metadata": {},
   "outputs": [
    {
     "name": "stdout",
     "output_type": "stream",
     "text": [
      "DTR accuracy:  -0.42075766396238945\n",
      "DTR Mean Squared Error: 19.938380281690144\n"
     ]
    }
   ],
   "source": [
    "#IMPLEMENTING DECISION TREE REGRESSOR\n",
    "from sklearn.tree import DecisionTreeRegressor\n",
    "DTR = DecisionTreeRegressor(min_samples_split = 4).fit(x_train, y_train)\n",
    "dtr_accuracy = DTR.score(x_test, y_test)\n",
    "print('DTR accuracy: ',dtr_accuracy)\n",
    "p = DTR.predict(x_test)\n",
    "\n",
    "dtr_mse = mean_squared_error(y_test, y_pred)\n",
    "print(\"DTR Mean Squared Error:\",dtr_mse)"
   ]
  },
  {
   "cell_type": "markdown",
   "id": "f337b6bd",
   "metadata": {},
   "source": [
    "## Pre-processing of Experimental Data"
   ]
  },
  {
   "cell_type": "code",
   "execution_count": 9,
   "id": "8e1b601b",
   "metadata": {},
   "outputs": [],
   "source": [
    "#FUNCTION TO CONVERT .txt FILE INTO .csv AND STORE IT IN THE 'CSV' FOLDER\n",
    "\n",
    "def conv_File(name, Folder):\n",
    "    fpath = r'D:\\RWTH Masters\\Sem 3\\CIE\\Project_B\\Project_B_Data\\Experimental_validation\\\\'+Folder+'\\\\'+name+'.txt'\n",
    "    path = r'D:\\RWTH Masters\\Sem 3\\CIE\\Project_B\\Project_B_Data\\Experimental_validation\\\\copy\\\\'+name+'.txt'\n",
    "    path2 = r'D:\\RWTH Masters\\Sem 3\\CIE\\Project_B\\Project_B_Data\\Experimental_validation\\\\CSV\\\\'+name+'.csv'\n",
    "\n",
    "    lines = []\n",
    "        # Read file\n",
    "    with open(fpath, 'r') as fp:\n",
    "        # read an store all lines into list\n",
    "        lines = fp.readlines()\n",
    "\n",
    "    # Write file\n",
    "    with open(path, 'w') as fp:\n",
    "        # iterate each line\n",
    "        for number, line in enumerate(lines):\n",
    "            # delete line 1 to 7. or pass any Nth line you want to remove\n",
    "            # note list index starts from 0\n",
    "            if number not in [0,1,2,3,4,5,6]:\n",
    "                fp.write(line)\n",
    "    \n",
    "    \n",
    "    df = pd.read_csv(path,delimiter = '\\t')\n",
    "    df.to_csv(path2, index = None)\n",
    "    df2 = pd.read_csv(path2,converters={'y': lambda x: float(x.replace('.','').replace(',','.'))})\n",
    "      \n",
    "    f = lambda x: str.replace(x, u',', u'.')\n",
    "    df2['s'] = df2['s'].map(f)\n",
    "    df2['V'] = df2['V'].map(f)\n",
    "    df2['V.1'] = df2['V.1'].map(f)\n",
    "    df2['V.2'] = df2['V.2'].map(f)\n",
    "    df2['V.3'] = df2['V.3'].map(f)\n",
    "\n",
    "    df2\n",
    "    df2.dtypes\n",
    "\n",
    "    #df2.columns = ('Time (s)', 'Ch A1 (V)', 'Ch A2 (V)', 'Ch A3 (V)', 'Ch A4 (V)')\n",
    "    convert_dict = {'s': float, 'V': float, 'V.1': float, 'V.2': float, 'V.3': float}\n",
    "  \n",
    "    df2 = df2.astype(convert_dict)\n",
    "    x1 = df2.rename(columns={'s': 'Time (s)', 'V': 'Ch A1 (V)', 'V.1': 'Ch A2 (V)', 'V.2': 'Ch A3 (V)', 'V.3': 'Ch A4 (V)'})\n",
    "    #x1.to_csv('D:\\\\RWTH Masters\\\\Sem 3\\\\CIE\\\\Project_B\\\\Project_B_Data\\\\EXP\\\\'+name+'.csv', index = None)\n",
    "    \n",
    "    return df2"
   ]
  },
  {
   "cell_type": "code",
   "execution_count": 10,
   "id": "2a84c1f5",
   "metadata": {
    "scrolled": true
   },
   "outputs": [],
   "source": [
    "#CHANGING THE COLUMN NAMES\n",
    "def Rename(df2):\n",
    "    x1 = df2.rename(columns={'s': 'Time (s)', 'V': 'Ch A1 (V)', 'V.1': 'Ch A2 (V)', 'V.2': 'Ch A3 (V)', 'V.3': 'Ch A4 (V)'})\n",
    "    return x1"
   ]
  },
  {
   "cell_type": "code",
   "execution_count": 11,
   "id": "f74f3b3e",
   "metadata": {},
   "outputs": [],
   "source": [
    "#ACQUIRING THE FREQUENCY OF THE DATA\n",
    "def ToNumpy(x1):\n",
    "    X1 = x1.to_numpy()\n",
    "    #plot(X1, '230,245')\n",
    "    return X1"
   ]
  },
  {
   "cell_type": "code",
   "execution_count": 39,
   "id": "437997e1",
   "metadata": {},
   "outputs": [],
   "source": [
    "#FUNCTION TO CUT THE EXPERIMENTAL DATA\n",
    "#This function cuts the data from before the first peak (can be adjusted by j) up to 0.00020 seconds from the start point\n",
    "\n",
    "def cut_data(data, freq):\n",
    "    data1 = abs(data[:,1])\n",
    "    data2 = abs(data[:,2])\n",
    "    data3 = abs(data[:,3])\n",
    "    data4 = abs(data[:,4])\n",
    "    peaks1, _ = signal.find_peaks(data1,height=0.025)\n",
    "    peaks2, _ = signal.find_peaks(data2,height=0.025)\n",
    "    peaks3, _ = signal.find_peaks(data3,height=0.025)\n",
    "    peaks4, _ = signal.find_peaks(data4,height=0.025)\n",
    "    #print (peaks1[0],peaks2[0],peaks3[0],peaks4[0])\n",
    "    #print (data[peaks1[0],0],data[peaks2[0],0],data[peaks3[0],0],data[peaks4[0],0])\n",
    "    peak = min(peaks1[0],peaks2[0],peaks3[0],peaks4[0])\n",
    "    \n",
    "    z = 400\n",
    "    while True:\n",
    "        i = peak-z\n",
    "        j = peak-10\n",
    "        edata = data[j:-i, :]\n",
    "        l = len(edata)-1\n",
    "        fdata = edata[l,0]-edata[0,0]\n",
    "        if (fdata <= 0.00020):\n",
    "            break\n",
    "        z = z-1\n",
    "    return edata"
   ]
  },
  {
   "cell_type": "code",
   "execution_count": 40,
   "id": "714f5854",
   "metadata": {},
   "outputs": [],
   "source": [
    "#FUNCTION TO PLOT THE PEAKS\n",
    "\n",
    "def peak_plot(data_abs,peaks):\n",
    "    plt.subplots(nrows = 1, figsize = (30,12), sharex=True)\n",
    "    plt.plot(data_abs)\n",
    "    plt.plot(peaks, data_abs[peaks], \"X\")\n",
    "    plt.plot(np.zeros_like(data_abs), \"--\", color=\"gray\")\n",
    "    plt.show()"
   ]
  },
  {
   "cell_type": "code",
   "execution_count": 41,
   "id": "1d545f01",
   "metadata": {},
   "outputs": [],
   "source": [
    "#FUNCTION TO RESAMPLE THE DATA\n",
    "\n",
    "def resample(Data,freq):\n",
    "    resampled_data = signal.resample(Data[:,1:5], freq)\n",
    "    a = 0.00020/(freq-1)\n",
    "    t1 = np.c_[0:0.00020+a:a] \n",
    "    #print(t1.shape)\n",
    "    resampled_data = np.column_stack((t1, resampled_data))\n",
    "    #resampled_data = pd.DataFrame(resampled_data)\n",
    "    #resampled_data = resampled_data.rename(columns={0 : \"Time\", 1: \"Ch A1 (V)\", 2: \"Ch A2 (V)\", 3 : \"Ch A3 (V)\", 4 : \"Ch A4 (V)\"}, errors=\"raise\")\n",
    "    return resampled_data"
   ]
  },
  {
   "cell_type": "code",
   "execution_count": 42,
   "id": "38ffe913",
   "metadata": {},
   "outputs": [],
   "source": [
    "def SWAP(df):\n",
    "    f3 = np.zeros(df.shape)\n",
    "\n",
    "    f3[:,0] = df[:,0]\n",
    "    f3[:,1] = df[:,1]\n",
    "    f3[:,2] = df[:,2]\n",
    "    f3[:,3] = df[:,4]\n",
    "    f3[:,4] = df[:,3]\n",
    "    \n",
    "    return f3"
   ]
  },
  {
   "cell_type": "code",
   "execution_count": 43,
   "id": "9e4243bc",
   "metadata": {},
   "outputs": [],
   "source": [
    "def Pre_processing(Folder,name):\n",
    "    df2 = conv_File(name, Folder)\n",
    "    x1 = Rename(df2)\n",
    "    X1 = ToNumpy(x1)\n",
    "    freq1 = np.round(len(X1)/X1[(len(X1)-1),0])\n",
    "    #print(freq1)\n",
    "    \n",
    "    edata = cut_data(X1, freq1)\n",
    "    #print(edata.shape)\n",
    "    edata[:,0] = edata[:,0]-edata[0,0]\n",
    "    df = resample(edata,400)\n",
    "    #print(df.shape)\n",
    "    \n",
    "    df = SWAP(df)\n",
    "    df[:,1:5] = df[:,1:5]*-1\n",
    "    return df"
   ]
  },
  {
   "cell_type": "markdown",
   "id": "953764ed",
   "metadata": {},
   "source": [
    "## Predictions for DTR and KNN"
   ]
  },
  {
   "cell_type": "code",
   "execution_count": 36,
   "id": "9d495c8d",
   "metadata": {},
   "outputs": [],
   "source": [
    "def DTR_KNN_Prediction(df):\n",
    "    df_KNN = df\n",
    "    df_KNN = df_KNN.flatten()\n",
    "    df_KNN = np.reshape(df_KNN,(1,2000))\n",
    "\n",
    "    p = DTR.predict(df_KNN)\n",
    "    print('DTR prediction: ',p)\n",
    "\n",
    "    ypred = knn.predict(df_KNN)\n",
    "    print('KNN prediction: ',ypred)"
   ]
  },
  {
   "cell_type": "markdown",
   "id": "0aaee6ef",
   "metadata": {},
   "source": [
    "## CNN"
   ]
  },
  {
   "cell_type": "code",
   "execution_count": 9,
   "id": "7160e486",
   "metadata": {},
   "outputs": [],
   "source": [
    "#TRAIN-TEST SPLIT FOR CNN\n",
    "from sklearn.model_selection import train_test_split\n",
    "Cx_train, Cx_test, Cy_train, Cy_test = train_test_split(x,y,test_size = 0.1, random_state=42)\n",
    "\n",
    "#STANDARDISING THE DATA\n",
    "from sklearn.preprocessing import StandardScaler, MinMaxScaler\n",
    "\n",
    "scaler1 = StandardScaler()\n",
    "for i in range(0,638,1):\n",
    "    Cx_train[i,:,:] = scaler1.fit_transform(Cx_train[i,:,:])\n",
    "for i in range(0,71,1):\n",
    "    Cx_test[i,:,:] = scaler1.fit_transform(Cx_test[i,:,:])\n",
    "    \n",
    "Cx_train = Cx_train.reshape(638, 400, 5, 1)\n",
    "Cx_test = Cx_test.reshape(71, 400, 5, 1)"
   ]
  },
  {
   "cell_type": "code",
   "execution_count": 11,
   "id": "a58d9cf5",
   "metadata": {},
   "outputs": [],
   "source": [
    "#BUILDING A CNN MODEL\n",
    "\n",
    "model = Sequential()\n",
    "model.add(Conv2D(200,(4, 1),activation = 'relu',input_shape = Cx_train[0].shape))\n",
    "model.add(MaxPool2D(pool_size=(3, 1)))\n",
    "#model.add(Dropout(0.6))\n",
    "\n",
    "model.add(Conv2D(150, (3, 1),activation = 'relu'))\n",
    "model.add(MaxPool2D(pool_size=(3, 1)))\n",
    "\n",
    "\n",
    "model.add(Conv2D(100, (3, 1),activation = 'relu'))\n",
    "model.add(MaxPool2D(pool_size=(3, 1)))\n",
    "\n",
    "model.add(Conv2D(50, (2, 1),activation = 'relu'))\n",
    "model.add(MaxPool2D(pool_size=(2, 1)))\n",
    "\n",
    "model.add(Conv2D(25, (2, 1),activation = 'relu'))\n",
    "model.add(MaxPool2D(pool_size=(2, 1)))\n",
    "\n",
    "model.add(Flatten())\n",
    "\n",
    "model.add(Dense(200,activation=\"elu\"))\n",
    "#model.add(Dense(50,activation=\"elu\"))\n",
    "model.add(Dense(2,activation=\"elu\"))"
   ]
  },
  {
   "cell_type": "raw",
   "id": "f3d3d969",
   "metadata": {},
   "source": [
    "# AlexNet CNN Architecture\n",
    "\n",
    "model = Sequential()\n",
    "model.add(Conv2D(128,(3, 1),activation = 'elu',input_shape = Cx_train[0].shape))\n",
    "model.add(BatchNormalization())\n",
    "model.add(MaxPool2D(pool_size=(3, 1)))\n",
    "\n",
    "model.add(Conv2D(64, (3, 1),activation = 'elu'))\n",
    "model.add(BatchNormalization())\n",
    "model.add(MaxPool2D(pool_size=(3, 1)))\n",
    "\n",
    "model.add(Conv2D(32, (3, 1),activation = 'elu'))\n",
    "model.add(BatchNormalization())\n",
    "model.add(MaxPool2D(pool_size=(3, 1)))\n",
    "\n",
    "model.add(Flatten())\n",
    "\n",
    "model.add(Dense(100,activation=\"elu\"))\n",
    "model.add(Dense(2,activation=\"elu\"))"
   ]
  },
  {
   "cell_type": "raw",
   "id": "329564d3",
   "metadata": {},
   "source": [
    "# VGG CNN Architecture\n",
    "\n",
    "model = Sequential()\n",
    "model.add(Conv2D(64,(3, 1),activation = 'elu',input_shape = Cx_train[0].shape))\n",
    "model.add(Conv2D(64, (3, 1),activation = 'elu'))\n",
    "model.add(Conv2D(64, (3, 1),activation = 'elu'))\n",
    "model.add(MaxPool2D(pool_size=(3, 1)))\n",
    "\n",
    "model.add(Conv2D(32, (3, 1),activation = 'elu'))\n",
    "model.add(Conv2D(32, (3, 1),activation = 'elu'))\n",
    "model.add(Conv2D(32, (3, 1),activation = 'elu'))\n",
    "model.add(MaxPool2D(pool_size=(3, 1)))\n",
    "\n",
    "\n",
    "model.add(Conv2D(16, (3, 1),activation = 'elu'))\n",
    "model.add(Conv2D(16, (3, 1),activation = 'elu'))\n",
    "model.add(Conv2D(16, (3, 1),activation = 'elu'))\n",
    "model.add(MaxPool2D(pool_size=(2, 1)))\n",
    "\n",
    "model.add(Flatten())\n",
    "\n",
    "model.add(Dense(100,activation=\"elu\"))\n",
    "model.add(Dense(2,activation=\"elu\"))"
   ]
  },
  {
   "cell_type": "code",
   "execution_count": 12,
   "id": "f998d283",
   "metadata": {},
   "outputs": [
    {
     "name": "stdout",
     "output_type": "stream",
     "text": [
      "Epoch 1/25\n",
      "128/128 [==============================] - 13s 81ms/step - loss: 8629.2617 - accuracy: 0.7273\n",
      "Epoch 2/25\n",
      "128/128 [==============================] - 7s 53ms/step - loss: 388.1263 - accuracy: 0.8981\n",
      "Epoch 3/25\n",
      "128/128 [==============================] - 10s 76ms/step - loss: 261.5098 - accuracy: 0.8966\n",
      "Epoch 4/25\n",
      "128/128 [==============================] - 10s 81ms/step - loss: 225.7711 - accuracy: 0.8903\n",
      "Epoch 5/25\n",
      "128/128 [==============================] - 10s 80ms/step - loss: 168.7958 - accuracy: 0.9436\n",
      "Epoch 6/25\n",
      "128/128 [==============================] - 9s 67ms/step - loss: 115.2272 - accuracy: 0.9310\n",
      "Epoch 7/25\n",
      "128/128 [==============================] - 4s 33ms/step - loss: 94.1585 - accuracy: 0.9389\n",
      "Epoch 8/25\n",
      "128/128 [==============================] - 10s 78ms/step - loss: 81.2162 - accuracy: 0.9342\n",
      "Epoch 9/25\n",
      "128/128 [==============================] - 10s 74ms/step - loss: 67.0098 - accuracy: 0.9404\n",
      "Epoch 10/25\n",
      "128/128 [==============================] - 10s 80ms/step - loss: 64.6665 - accuracy: 0.9451\n",
      "Epoch 11/25\n",
      "128/128 [==============================] - 10s 79ms/step - loss: 54.2093 - accuracy: 0.9373\n",
      "Epoch 12/25\n",
      "128/128 [==============================] - 7s 54ms/step - loss: 38.6260 - accuracy: 0.9530\n",
      "Epoch 13/25\n",
      "128/128 [==============================] - 10s 75ms/step - loss: 47.0576 - accuracy: 0.9530\n",
      "Epoch 14/25\n",
      "128/128 [==============================] - 11s 82ms/step - loss: 35.9875 - accuracy: 0.9687 0s - loss: 33.9307 - accuracy\n",
      "Epoch 15/25\n",
      "128/128 [==============================] - 10s 81ms/step - loss: 42.1914 - accuracy: 0.9577\n",
      "Epoch 16/25\n",
      "128/128 [==============================] - 9s 72ms/step - loss: 32.3243 - accuracy: 0.9687\n",
      "Epoch 17/25\n",
      "128/128 [==============================] - 8s 64ms/step - loss: 26.8466 - accuracy: 0.9592\n",
      "Epoch 18/25\n",
      "128/128 [==============================] - 10s 75ms/step - loss: 33.1475 - accuracy: 0.9498\n",
      "Epoch 19/25\n",
      "128/128 [==============================] - 11s 83ms/step - loss: 51.8327 - accuracy: 0.9639\n",
      "Epoch 20/25\n",
      "128/128 [==============================] - 10s 82ms/step - loss: 36.3588 - accuracy: 0.9655\n",
      "Epoch 21/25\n",
      "128/128 [==============================] - 6s 50ms/step - loss: 34.9811 - accuracy: 0.9734\n",
      "Epoch 22/25\n",
      "128/128 [==============================] - 7s 52ms/step - loss: 33.8239 - accuracy: 0.9718\n",
      "Epoch 23/25\n",
      "128/128 [==============================] - 10s 78ms/step - loss: 40.6757 - accuracy: 0.9639\n",
      "Epoch 24/25\n",
      "128/128 [==============================] - 10s 81ms/step - loss: 46.0041 - accuracy: 0.9702\n",
      "Epoch 25/25\n",
      "128/128 [==============================] - 10s 79ms/step - loss: 28.4666 - accuracy: 0.9765\n"
     ]
    }
   ],
   "source": [
    "model.compile(optimizer='adam',loss='mean_squared_error',metrics=['accuracy'])\n",
    "history = model.fit(Cx_train, Cy_train, epochs = 25, batch_size = 5, verbose=1)"
   ]
  },
  {
   "cell_type": "markdown",
   "id": "001e687a",
   "metadata": {},
   "source": [
    "## CNN Loss and Accuracy Visualization"
   ]
  },
  {
   "cell_type": "code",
   "execution_count": 13,
   "id": "96fd2b0c",
   "metadata": {},
   "outputs": [
    {
     "data": {
      "image/png": "[encoded data removed]",
      "text/plain": [
       "<Figure size 432x288 with 1 Axes>"
      ]
     },
     "metadata": {
      "needs_background": "light"
     },
     "output_type": "display_data"
    },
    {
     "data": {
      "image/png": "[encoded data removed]",
      "text/plain": [
       "<Figure size 432x288 with 1 Axes>"
      ]
     },
     "metadata": {
      "needs_background": "light"
     },
     "output_type": "display_data"
    }
   ],
   "source": [
    "plt.plot(history.history['accuracy'])\n",
    "plt.show()\n",
    "plt.plot(history.history['loss'])\n",
    "plt.show()"
   ]
  },
  {
   "cell_type": "code",
   "execution_count": 14,
   "id": "6dd25f14",
   "metadata": {},
   "outputs": [
    {
     "name": "stdout",
     "output_type": "stream",
     "text": [
      "3/3 [==============================] - 1s 64ms/step - loss: 24.5489 - accuracy: 0.9718\n",
      "CNN Test loss: 24.548934936523438\n",
      "CNN Test accuracy: 0.9718309640884399\n",
      "CNN Deviation: x = 4.6803861806090445 y = 3.272697986011774\n"
     ]
    }
   ],
   "source": [
    "Ctest_eval = model.evaluate(Cx_test, Cy_test, verbose=1)\n",
    "print('CNN Test loss:', Ctest_eval[0])\n",
    "print('CNN Test accuracy:', Ctest_eval[1])\n",
    "Cy_pred = model.predict(Cx_test)\n",
    "xDev = np.mean(np.abs(Cy_test[:,0]-Cy_pred[:,0]))\n",
    "yDev = np.mean(np.abs(Cy_test[:,1]-Cy_pred[:,1]))\n",
    "print('CNN Deviation: x =',xDev,'y =',yDev)"
   ]
  },
  {
   "cell_type": "markdown",
   "id": "2f001654",
   "metadata": {},
   "source": [
    "## Predictions for CNN"
   ]
  },
  {
   "cell_type": "code",
   "execution_count": 45,
   "id": "e1936f11",
   "metadata": {},
   "outputs": [],
   "source": [
    "def CNN_Prediction(df):\n",
    "    scaler1 = StandardScaler()\n",
    "    df_CNN = scaler1.fit_transform(df)\n",
    "\n",
    "    df_CNN1 = pd.DataFrame(df_CNN)\n",
    "    df_CNN2 = df_CNN1.rename(columns={ 0: \"Time\", 1: \"Channel 1\", 2: \"Channel 2\", 3 : \"Channel 3\", 4 : \"Channel 4\"}, errors=\"raise\")\n",
    "\n",
    "    #print(df_CNN2)\n",
    "    Ctest = model.predict(np.expand_dims(df_CNN2, 0))\n",
    "    #test = test - [20, 20]\n",
    "    print('CNN prediction: ',Ctest)\n",
    "    #print(name)"
   ]
  },
  {
   "cell_type": "markdown",
   "id": "f2758c0f",
   "metadata": {},
   "source": [
    "# RNN"
   ]
  },
  {
   "cell_type": "code",
   "execution_count": 24,
   "id": "b2272732",
   "metadata": {},
   "outputs": [],
   "source": [
    "#APPENDING THE DATA\n",
    "\n",
    "i = 0\n",
    "data = np.empty(shape=(1,2000))\n",
    "\n",
    "#data = pd.DataFrame()\n",
    "#data = data.to_numpy()\n",
    "for i in range (0,709,1):\n",
    "    final_data_flat = x[i,:,:].flatten()\n",
    "    data = np.vstack([data, final_data_flat])\n",
    "    #data = np.append(data,final_data_flat)\n",
    "    \n",
    "    \n",
    "data = np.delete(data, 0, 0)\n",
    "data.shape\n",
    "\n",
    "#TRAIN-TEST SPLIT FOR RNN\n",
    "from sklearn.model_selection import train_test_split\n",
    "Rx_train, Rx_test, Ry_train, Ry_test = train_test_split(data,y,test_size = 0.1, random_state=42)\n",
    "\n",
    "Rx_train = Rx_train.reshape(638,1,2000)\n",
    "Rx_test = Rx_test.reshape(71,1,2000)"
   ]
  },
  {
   "cell_type": "code",
   "execution_count": 27,
   "id": "3419737c",
   "metadata": {},
   "outputs": [],
   "source": [
    "#BUILDING THE RNN MODEL\n",
    "\n",
    "from keras.layers import Dense, MaxPool1D , Flatten, Dropout, AvgPool2D, SimpleRNN, LSTM\n",
    "\n",
    "model_RNN = Sequential()\n",
    "model_RNN.add(LSTM(200, input_shape=Rx_train[0].shape, activation='elu', return_sequences=True))\n",
    "model_RNN.add(MaxPool1D(1,4))\n",
    "model_RNN.add(LSTM(100, input_shape=Rx_train[0].shape, activation='elu', return_sequences=True))\n",
    "model_RNN.add(MaxPool1D(1,4))\n",
    "model_RNN.add(LSTM(50, input_shape=Rx_train[0].shape, activation='elu'))\n",
    "model_RNN.add(Flatten())\n",
    "model_RNN.add(Dense(100))\n",
    "model_RNN.add(Dense(50))\n",
    "model_RNN.add(Dense(2))"
   ]
  },
  {
   "cell_type": "code",
   "execution_count": 28,
   "id": "3fdc81bc",
   "metadata": {},
   "outputs": [
    {
     "name": "stdout",
     "output_type": "stream",
     "text": [
      "Epoch 1/100\n",
      "128/128 [==============================] - 10s 19ms/step - loss: 16990.8398 - accuracy: 0.5298\n",
      "Epoch 2/100\n",
      "128/128 [==============================] - 3s 20ms/step - loss: 1759.9606 - accuracy: 0.5251\n",
      "Epoch 3/100\n",
      "128/128 [==============================] - 2s 20ms/step - loss: 1315.7844 - accuracy: 0.6395\n",
      "Epoch 4/100\n",
      "128/128 [==============================] - 3s 20ms/step - loss: 599.5684 - accuracy: 0.8950\n",
      "Epoch 5/100\n",
      "128/128 [==============================] - 2s 19ms/step - loss: 314.8555 - accuracy: 0.9091\n",
      "Epoch 6/100\n",
      "128/128 [==============================] - 2s 19ms/step - loss: 237.2280 - accuracy: 0.9295\n",
      "Epoch 7/100\n",
      "128/128 [==============================] - 2s 19ms/step - loss: 224.3346 - accuracy: 0.9216\n",
      "Epoch 8/100\n",
      "128/128 [==============================] - 3s 20ms/step - loss: 185.7151 - accuracy: 0.9310\n",
      "Epoch 9/100\n",
      "128/128 [==============================] - 3s 20ms/step - loss: 115.6151 - accuracy: 0.9514 0s - loss: 111.9646 - accuracy: 0.\n",
      "Epoch 10/100\n",
      "128/128 [==============================] - 2s 19ms/step - loss: 97.2730 - accuracy: 0.9498\n",
      "Epoch 11/100\n",
      "128/128 [==============================] - 2s 19ms/step - loss: 113.0010 - accuracy: 0.9420\n",
      "Epoch 12/100\n",
      "128/128 [==============================] - 2s 19ms/step - loss: 141.4810 - accuracy: 0.9577\n",
      "Epoch 13/100\n",
      "128/128 [==============================] - 2s 19ms/step - loss: 96.4410 - accuracy: 0.9467\n",
      "Epoch 14/100\n",
      "128/128 [==============================] - 2s 19ms/step - loss: 63.4325 - accuracy: 0.9577\n",
      "Epoch 15/100\n",
      "128/128 [==============================] - 3s 20ms/step - loss: 51.8217 - accuracy: 0.9498\n",
      "Epoch 16/100\n",
      "128/128 [==============================] - 2s 19ms/step - loss: 41.9838 - accuracy: 0.9467\n",
      "Epoch 17/100\n",
      "128/128 [==============================] - 3s 20ms/step - loss: 46.6153 - accuracy: 0.9514\n",
      "Epoch 18/100\n",
      "128/128 [==============================] - 3s 20ms/step - loss: 39.7913 - accuracy: 0.9498\n",
      "Epoch 19/100\n",
      "128/128 [==============================] - 2s 19ms/step - loss: 42.7135 - accuracy: 0.9671\n",
      "Epoch 20/100\n",
      "128/128 [==============================] - 2s 19ms/step - loss: 52.5811 - accuracy: 0.9687\n",
      "Epoch 21/100\n",
      "128/128 [==============================] - 3s 20ms/step - loss: 52.0149 - accuracy: 0.9561\n",
      "Epoch 22/100\n",
      "128/128 [==============================] - 2s 19ms/step - loss: 66.0685 - accuracy: 0.9467\n",
      "Epoch 23/100\n",
      "128/128 [==============================] - 2s 20ms/step - loss: 139.3836 - accuracy: 0.9420\n",
      "Epoch 24/100\n",
      "128/128 [==============================] - 3s 20ms/step - loss: 219.2935 - accuracy: 0.9201\n",
      "Epoch 25/100\n",
      "128/128 [==============================] - 3s 20ms/step - loss: 115.4711 - accuracy: 0.9326\n",
      "Epoch 26/100\n",
      "128/128 [==============================] - 3s 20ms/step - loss: 86.3947 - accuracy: 0.9310\n",
      "Epoch 27/100\n",
      "128/128 [==============================] - 3s 20ms/step - loss: 71.7105 - accuracy: 0.9624\n",
      "Epoch 28/100\n",
      "128/128 [==============================] - 2s 19ms/step - loss: 48.3982 - accuracy: 0.9561\n",
      "Epoch 29/100\n",
      "128/128 [==============================] - 2s 19ms/step - loss: 33.9709 - accuracy: 0.9639\n",
      "Epoch 30/100\n",
      "128/128 [==============================] - 2s 19ms/step - loss: 32.7244 - accuracy: 0.9624\n",
      "Epoch 31/100\n",
      "128/128 [==============================] - 2s 19ms/step - loss: 29.5685 - accuracy: 0.9718\n",
      "Epoch 32/100\n",
      "128/128 [==============================] - 3s 20ms/step - loss: 23.3808 - accuracy: 0.9718\n",
      "Epoch 33/100\n",
      "128/128 [==============================] - 3s 20ms/step - loss: 28.0889 - accuracy: 0.9749\n",
      "Epoch 34/100\n",
      "128/128 [==============================] - 3s 20ms/step - loss: 28.1977 - accuracy: 0.9671\n",
      "Epoch 35/100\n",
      "128/128 [==============================] - 2s 19ms/step - loss: 23.0712 - accuracy: 0.9702\n",
      "Epoch 36/100\n",
      "128/128 [==============================] - 3s 20ms/step - loss: 26.6874 - accuracy: 0.9749\n",
      "Epoch 37/100\n",
      "128/128 [==============================] - 2s 19ms/step - loss: 27.7334 - accuracy: 0.9608\n",
      "Epoch 38/100\n",
      "128/128 [==============================] - 2s 19ms/step - loss: 32.4035 - accuracy: 0.9577\n",
      "Epoch 39/100\n",
      "128/128 [==============================] - 2s 19ms/step - loss: 36.6354 - accuracy: 0.9624\n",
      "Epoch 40/100\n",
      "128/128 [==============================] - 2s 19ms/step - loss: 37.6597 - accuracy: 0.9639\n",
      "Epoch 41/100\n",
      "128/128 [==============================] - 2s 19ms/step - loss: 50.7984 - accuracy: 0.9514\n",
      "Epoch 42/100\n",
      "128/128 [==============================] - 2s 19ms/step - loss: 46.2134 - accuracy: 0.9624\n",
      "Epoch 43/100\n",
      "128/128 [==============================] - 2s 19ms/step - loss: 92.4162 - accuracy: 0.9530\n",
      "Epoch 44/100\n",
      "128/128 [==============================] - 2s 19ms/step - loss: 82.5009 - accuracy: 0.9467\n",
      "Epoch 45/100\n",
      "128/128 [==============================] - 2s 19ms/step - loss: 65.4906 - accuracy: 0.9498\n",
      "Epoch 46/100\n",
      "128/128 [==============================] - 2s 19ms/step - loss: 42.2820 - accuracy: 0.9483\n",
      "Epoch 47/100\n",
      "128/128 [==============================] - 2s 19ms/step - loss: 37.2716 - accuracy: 0.9577\n",
      "Epoch 48/100\n",
      "128/128 [==============================] - 2s 19ms/step - loss: 33.8021 - accuracy: 0.9592\n",
      "Epoch 49/100\n",
      "128/128 [==============================] - 2s 19ms/step - loss: 32.7051 - accuracy: 0.9687\n",
      "Epoch 50/100\n",
      "128/128 [==============================] - 2s 19ms/step - loss: 26.3995 - accuracy: 0.9655\n",
      "Epoch 51/100\n",
      "128/128 [==============================] - 2s 19ms/step - loss: 25.0136 - accuracy: 0.9639\n",
      "Epoch 52/100\n",
      "128/128 [==============================] - 2s 19ms/step - loss: 25.4792 - accuracy: 0.9624\n",
      "Epoch 53/100\n",
      "128/128 [==============================] - 3s 20ms/step - loss: 19.1775 - accuracy: 0.9624\n",
      "Epoch 54/100\n",
      "128/128 [==============================] - 2s 19ms/step - loss: 23.2453 - accuracy: 0.9843\n",
      "Epoch 55/100\n",
      "128/128 [==============================] - 2s 19ms/step - loss: 15.3985 - accuracy: 0.9734\n",
      "Epoch 56/100\n",
      "128/128 [==============================] - 2s 19ms/step - loss: 17.0343 - accuracy: 0.9624\n",
      "Epoch 57/100\n",
      "128/128 [==============================] - 2s 19ms/step - loss: 22.4299 - accuracy: 0.9608: 1s\n",
      "Epoch 58/100\n",
      "128/128 [==============================] - 3s 20ms/step - loss: 23.5871 - accuracy: 0.9702\n",
      "Epoch 59/100\n",
      "128/128 [==============================] - 2s 19ms/step - loss: 57.2293 - accuracy: 0.9655\n",
      "Epoch 60/100\n",
      "128/128 [==============================] - 2s 18ms/step - loss: 39.3356 - accuracy: 0.9545\n",
      "Epoch 61/100\n",
      "128/128 [==============================] - 2s 19ms/step - loss: 36.8726 - accuracy: 0.9545\n",
      "Epoch 62/100\n",
      "128/128 [==============================] - 3s 20ms/step - loss: 45.6168 - accuracy: 0.9561\n",
      "Epoch 63/100\n",
      "128/128 [==============================] - 3s 20ms/step - loss: 71.8068 - accuracy: 0.9342\n",
      "Epoch 64/100\n",
      "128/128 [==============================] - 2s 20ms/step - loss: 73.8667 - accuracy: 0.9451\n",
      "Epoch 65/100\n",
      "128/128 [==============================] - 2s 19ms/step - loss: 136.8068 - accuracy: 0.9279\n",
      "Epoch 66/100\n",
      "128/128 [==============================] - 2s 19ms/step - loss: 129.3424 - accuracy: 0.9436\n",
      "Epoch 67/100\n",
      "128/128 [==============================] - 2s 18ms/step - loss: 82.3057 - accuracy: 0.9451\n",
      "Epoch 68/100\n",
      "128/128 [==============================] - 2s 19ms/step - loss: 70.0273 - accuracy: 0.9451: 1s - loss: \n",
      "Epoch 69/100\n",
      "128/128 [==============================] - 2s 18ms/step - loss: 46.6348 - accuracy: 0.9608\n",
      "Epoch 70/100\n",
      "128/128 [==============================] - 2s 19ms/step - loss: 26.1169 - accuracy: 0.9561\n",
      "Epoch 71/100\n",
      "128/128 [==============================] - 2s 18ms/step - loss: 17.1392 - accuracy: 0.9671\n",
      "Epoch 72/100\n",
      "128/128 [==============================] - 2s 18ms/step - loss: 18.6066 - accuracy: 0.9796\n",
      "Epoch 73/100\n",
      "128/128 [==============================] - 2s 18ms/step - loss: 9.9733 - accuracy: 0.9718\n",
      "Epoch 74/100\n",
      "128/128 [==============================] - 2s 18ms/step - loss: 6.7556 - accuracy: 0.9781\n",
      "Epoch 75/100\n",
      "128/128 [==============================] - 2s 18ms/step - loss: 5.3307 - accuracy: 0.9781\n",
      "Epoch 76/100\n",
      "128/128 [==============================] - 2s 18ms/step - loss: 4.5791 - accuracy: 0.9812\n",
      "Epoch 77/100\n",
      "128/128 [==============================] - 2s 18ms/step - loss: 4.2662 - accuracy: 0.9812\n",
      "Epoch 78/100\n",
      "128/128 [==============================] - 2s 18ms/step - loss: 3.2479 - accuracy: 0.9749\n",
      "Epoch 79/100\n",
      "128/128 [==============================] - 2s 19ms/step - loss: 3.1067 - accuracy: 0.9843\n",
      "Epoch 80/100\n",
      "128/128 [==============================] - 2s 19ms/step - loss: 3.3847 - accuracy: 0.9781\n",
      "Epoch 81/100\n",
      "128/128 [==============================] - 2s 18ms/step - loss: 4.9908 - accuracy: 0.9843\n",
      "Epoch 82/100\n",
      "128/128 [==============================] - 2s 18ms/step - loss: 6.8741 - accuracy: 0.9812\n",
      "Epoch 83/100\n",
      "128/128 [==============================] - 2s 18ms/step - loss: 9.5888 - accuracy: 0.9765\n",
      "Epoch 84/100\n",
      "128/128 [==============================] - 2s 18ms/step - loss: 15.5727 - accuracy: 0.9765: 1s - \n",
      "Epoch 85/100\n",
      "128/128 [==============================] - 2s 18ms/step - loss: 20.7291 - accuracy: 0.9545\n",
      "Epoch 86/100\n",
      "128/128 [==============================] - 2s 18ms/step - loss: 27.5282 - accuracy: 0.9671\n",
      "Epoch 87/100\n",
      "128/128 [==============================] - 2s 18ms/step - loss: 38.3039 - accuracy: 0.9530\n",
      "Epoch 88/100\n",
      "128/128 [==============================] - 2s 19ms/step - loss: 51.4742 - accuracy: 0.9451\n",
      "Epoch 89/100\n",
      "128/128 [==============================] - 2s 18ms/step - loss: 43.7047 - accuracy: 0.9561\n",
      "Epoch 90/100\n",
      "128/128 [==============================] - 2s 18ms/step - loss: 44.1289 - accuracy: 0.9577\n",
      "Epoch 91/100\n",
      "128/128 [==============================] - 2s 18ms/step - loss: 57.6147 - accuracy: 0.9561\n",
      "Epoch 92/100\n",
      "128/128 [==============================] - 2s 18ms/step - loss: 40.3295 - accuracy: 0.9639\n",
      "Epoch 93/100\n",
      "128/128 [==============================] - 2s 18ms/step - loss: 28.9641 - accuracy: 0.9639\n",
      "Epoch 94/100\n",
      "128/128 [==============================] - 3s 20ms/step - loss: 21.4497 - accuracy: 0.9561\n",
      "Epoch 95/100\n",
      "128/128 [==============================] - 2s 19ms/step - loss: 16.3338 - accuracy: 0.9655\n",
      "Epoch 96/100\n",
      "128/128 [==============================] - 3s 20ms/step - loss: 9.0530 - accuracy: 0.9796\n",
      "Epoch 97/100\n",
      "128/128 [==============================] - 3s 20ms/step - loss: 6.9381 - accuracy: 0.9828\n",
      "Epoch 98/100\n",
      "128/128 [==============================] - 2s 19ms/step - loss: 7.2451 - accuracy: 0.9812\n",
      "Epoch 99/100\n",
      "128/128 [==============================] - 2s 19ms/step - loss: 8.0115 - accuracy: 0.9765\n",
      "Epoch 100/100\n",
      "128/128 [==============================] - 2s 19ms/step - loss: 13.9203 - accuracy: 0.9734\n"
     ]
    }
   ],
   "source": [
    "model_RNN.compile(optimizer='adam',loss='mean_squared_error',metrics=['accuracy'])\n",
    "history1 = model_RNN.fit(Rx_train, Ry_train, epochs = 100, batch_size = 5, verbose=1)"
   ]
  },
  {
   "cell_type": "code",
   "execution_count": 29,
   "id": "a3c90e15",
   "metadata": {},
   "outputs": [
    {
     "name": "stdout",
     "output_type": "stream",
     "text": [
      "3/3 [==============================] - 1s 7ms/step - loss: 37.7643 - accuracy: 0.9155\n",
      "RNN Test loss: 37.76425552368164\n",
      "RNN Test accuracy: 0.9154929518699646\n",
      "RNN Deviation: x = 4.570091140102333 y = 4.065875416070643\n"
     ]
    }
   ],
   "source": [
    "Rtest_eval = model_RNN.evaluate(Rx_test, Ry_test, verbose=1)\n",
    "print('RNN Test loss:', Rtest_eval[0])\n",
    "print('RNN Test accuracy:', Rtest_eval[1])\n",
    "Ry_pred = model_RNN.predict(Rx_test)\n",
    "xDev = np.mean(np.abs(Ry_test[:,0]-Ry_pred[:,0]))\n",
    "yDev = np.mean(np.abs(Ry_test[:,1]-Ry_pred[:,1]))\n",
    "print('RNN Deviation: x =',xDev,'y =',yDev)"
   ]
  },
  {
   "cell_type": "markdown",
   "id": "88e103b4",
   "metadata": {},
   "source": [
    "## RNN Loss and Accuracy Visualization"
   ]
  },
  {
   "cell_type": "code",
   "execution_count": 30,
   "id": "9a81bacf",
   "metadata": {},
   "outputs": [
    {
     "data": {
      "image/png": "[encoded data removed]",
      "text/plain": [
       "<Figure size 432x288 with 1 Axes>"
      ]
     },
     "metadata": {
      "needs_background": "light"
     },
     "output_type": "display_data"
    },
    {
     "data": {
      "image/png": "[encoded data removed]",
      "text/plain": [
       "<Figure size 432x288 with 1 Axes>"
      ]
     },
     "metadata": {
      "needs_background": "light"
     },
     "output_type": "display_data"
    }
   ],
   "source": [
    "plt.plot(history1.history['accuracy'])\n",
    "plt.show()\n",
    "plt.plot(history1.history['loss'])\n",
    "plt.show()"
   ]
  },
  {
   "cell_type": "markdown",
   "id": "a2010ef3",
   "metadata": {},
   "source": [
    "## Predictions for RNN"
   ]
  },
  {
   "cell_type": "code",
   "execution_count": 48,
   "id": "97ed0626",
   "metadata": {},
   "outputs": [],
   "source": [
    "def RNN_Prediction(df):\n",
    "    df_RNN = df.flatten()\n",
    "    df_RNN = np.reshape(df_RNN,(1,2000))\n",
    "    Rtest = model_RNN.predict(np.expand_dims(df_RNN, 0))\n",
    "    print('RNN prediction: ',Rtest[0])\n",
    "    #print(name)"
   ]
  },
  {
   "cell_type": "markdown",
   "id": "0165c317",
   "metadata": {},
   "source": [
    "## Data Export"
   ]
  },
  {
   "cell_type": "code",
   "execution_count": 33,
   "id": "4c3c426d",
   "metadata": {},
   "outputs": [
    {
     "name": "stdout",
     "output_type": "stream",
     "text": [
      "DTR accuracy:  -0.6581736618495537\n",
      "DTR Mean Squared Error: 19.938380281690144\n",
      "KNN accuracy:  0.9892431155812842\n",
      "KNN Mean Squared Error: 19.938380281690144\n",
      "CNN Test loss: 16.256685256958008\n",
      "CNN Test accuracy: 1.0\n",
      "RNN Test loss: 37.76425552368164\n",
      "RNN Test accuracy: 0.9154929518699646\n"
     ]
    }
   ],
   "source": [
    "print('DTR accuracy: ',dtr_accuracy)\n",
    "print(\"DTR Mean Squared Error:\",dtr_mse)\n",
    "print('KNN accuracy: ',knn_accuracy)\n",
    "print(\"KNN Mean Squared Error:\",knn_mse)\n",
    "print('CNN Test loss:', Ctest_eval[0])\n",
    "print('CNN Test accuracy:', Ctest_eval[1])\n",
    "print('RNN Test loss:', Rtest_eval[0])\n",
    "print('RNN Test accuracy:', Rtest_eval[1])"
   ]
  },
  {
   "cell_type": "code",
   "execution_count": 49,
   "id": "3f4b3bd4",
   "metadata": {},
   "outputs": [
    {
     "name": "stdout",
     "output_type": "stream",
     "text": [
      "DTR prediction:  [[240. 275.]]\n",
      "KNN prediction:  [[250.   256.25]]\n",
      "CNN prediction:  [[246.76338 247.8158 ]]\n",
      "RNN prediction:  [253.05037 251.2779 ]\n"
     ]
    }
   ],
   "source": [
    "Folder = 'Group22'\n",
    "name = 'impact_xy_086'\n",
    "\n",
    "df = Pre_processing(Folder,name)\n",
    "DTR_KNN_Prediction(df)\n",
    "CNN_Prediction(df)\n",
    "RNN_Prediction(df)"
   ]
  },
  {
   "cell_type": "code",
   "execution_count": null,
   "id": "24671a52",
   "metadata": {},
   "outputs": [],
   "source": []
  }
 ],
 "metadata": {
  "kernelspec": {
   "display_name": "Python 3.8.10 64-bit",
   "language": "python",
   "name": "python3"
  },
  "language_info": {
   "codemirror_mode": {
    "name": "ipython",
    "version": 3
   },
   "file_extension": ".py",
   "mimetype": "text/x-python",
   "name": "python",
   "nbconvert_exporter": "python",
   "pygments_lexer": "ipython3",
   "version": "3.8.10"
  },
  "vscode": {
   "interpreter": {
    "hash": "e8b7d8c8625b8142e1536fcb7c4f2c52780c0cee3b79e1c6432a8a514371aad4"
   }
  }
 },
 "nbformat": 4,
 "nbformat_minor": 5
}
